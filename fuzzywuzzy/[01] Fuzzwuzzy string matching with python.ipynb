{
 "cells": [
  {
   "cell_type": "markdown",
   "id": "babed2b0",
   "metadata": {},
   "source": [
    "# Levenshtein distance in python"
   ]
  },
  {
   "cell_type": "code",
   "execution_count": 25,
   "id": "2712bea0",
   "metadata": {},
   "outputs": [],
   "source": [
    "import Levenshtein as lev"
   ]
  },
  {
   "cell_type": "code",
   "execution_count": 26,
   "id": "5a2393b1",
   "metadata": {},
   "outputs": [
    {
     "data": {
      "text/plain": [
       "2"
      ]
     },
     "execution_count": 26,
     "metadata": {},
     "output_type": "execute_result"
    }
   ],
   "source": [
    "str1 = \"Back\"\n",
    "str2 = \"Book\"\n",
    "\n",
    "lev.distance(str1, str2)"
   ]
  },
  {
   "cell_type": "markdown",
   "id": "6b6e238e",
   "metadata": {},
   "source": [
    "# FuzzyWuzzy in python"
   ]
  },
  {
   "cell_type": "code",
   "execution_count": 1,
   "id": "82ec4411",
   "metadata": {},
   "outputs": [
    {
     "name": "stdout",
     "output_type": "stream",
     "text": [
      "Collecting thefuzz\n",
      "  Obtaining dependency information for thefuzz from https://files.pythonhosted.org/packages/19/7d/ca50835332895beb87e663f9a610a7e0a7335b69e31177aee87acc3db9bd/thefuzz-0.20.0-py3-none-any.whl.metadata\n",
      "  Downloading thefuzz-0.20.0-py3-none-any.whl.metadata (3.9 kB)\n",
      "Collecting rapidfuzz<4.0.0,>=3.0.0 (from thefuzz)\n",
      "  Obtaining dependency information for rapidfuzz<4.0.0,>=3.0.0 from https://files.pythonhosted.org/packages/8c/67/d0247d36454ae5b9f39eac7a61b704ebbc3dadfd6c1ce8bfb1ede155293b/rapidfuzz-3.2.0-cp311-cp311-win_amd64.whl.metadata\n",
      "  Downloading rapidfuzz-3.2.0-cp311-cp311-win_amd64.whl.metadata (11 kB)\n",
      "Downloading thefuzz-0.20.0-py3-none-any.whl (15 kB)\n",
      "Downloading rapidfuzz-3.2.0-cp311-cp311-win_amd64.whl (1.8 MB)\n",
      "   ---------------------------------------- 0.0/1.8 MB ? eta -:--:--\n",
      "   -------- ------------------------------- 0.4/1.8 MB 8.1 MB/s eta 0:00:01\n",
      "   --------------------- ------------------ 1.0/1.8 MB 12.6 MB/s eta 0:00:01\n",
      "   -------------------------------- ------- 1.5/1.8 MB 11.9 MB/s eta 0:00:01\n",
      "   ---------------------------------------  1.8/1.8 MB 12.9 MB/s eta 0:00:01\n",
      "   ---------------------------------------- 1.8/1.8 MB 10.6 MB/s eta 0:00:00\n",
      "Installing collected packages: rapidfuzz, thefuzz\n",
      "Successfully installed rapidfuzz-3.2.0 thefuzz-0.20.0\n",
      "Note: you may need to restart the kernel to use updated packages.\n"
     ]
    }
   ],
   "source": [
    "pip install thefuzz"
   ]
  },
  {
   "cell_type": "code",
   "execution_count": 2,
   "id": "b2445686",
   "metadata": {},
   "outputs": [
    {
     "name": "stdout",
     "output_type": "stream",
     "text": [
      "Collecting python-Levenshtein\n",
      "  Obtaining dependency information for python-Levenshtein from https://files.pythonhosted.org/packages/ae/9c/208f8ad7eb38492ac4f829790a500bcfca88b1d0a1c988f6480a52a6f681/python_Levenshtein-0.21.1-py3-none-any.whl.metadata\n",
      "  Downloading python_Levenshtein-0.21.1-py3-none-any.whl.metadata (3.8 kB)\n",
      "Collecting Levenshtein==0.21.1 (from python-Levenshtein)\n",
      "  Obtaining dependency information for Levenshtein==0.21.1 from https://files.pythonhosted.org/packages/2c/73/e352325e05b56440cc07fca154925320d74075e56cb70250022263164ad9/Levenshtein-0.21.1-cp311-cp311-win_amd64.whl.metadata\n",
      "  Downloading Levenshtein-0.21.1-cp311-cp311-win_amd64.whl.metadata (3.5 kB)\n",
      "Requirement already satisfied: rapidfuzz<4.0.0,>=2.3.0 in c:\\users\\f.pranata\\appdata\\local\\anaconda3\\lib\\site-packages (from Levenshtein==0.21.1->python-Levenshtein) (3.2.0)\n",
      "Downloading python_Levenshtein-0.21.1-py3-none-any.whl (9.4 kB)\n",
      "Downloading Levenshtein-0.21.1-cp311-cp311-win_amd64.whl (101 kB)\n",
      "   ---------------------------------------- 0.0/101.4 kB ? eta -:--:--\n",
      "   ---------------------------------------- 101.4/101.4 kB 2.8 MB/s eta 0:00:00\n",
      "Installing collected packages: Levenshtein, python-Levenshtein\n",
      "Successfully installed Levenshtein-0.21.1 python-Levenshtein-0.21.1\n",
      "Note: you may need to restart the kernel to use updated packages.\n"
     ]
    }
   ],
   "source": [
    "pip install python-Levenshtein"
   ]
  },
  {
   "cell_type": "code",
   "execution_count": 5,
   "id": "355c3bb9",
   "metadata": {},
   "outputs": [],
   "source": [
    "from thefuzz import fuzz, process"
   ]
  },
  {
   "cell_type": "code",
   "execution_count": 6,
   "id": "5374d905",
   "metadata": {},
   "outputs": [
    {
     "name": "stdout",
     "output_type": "stream",
     "text": [
      "False\n"
     ]
    }
   ],
   "source": [
    "s1 = \"Hello World\"\n",
    "s2 = \"hello world\"\n",
    "\n",
    "print(s1 is s2)"
   ]
  },
  {
   "cell_type": "code",
   "execution_count": 7,
   "id": "cabcacc1",
   "metadata": {},
   "outputs": [
    {
     "name": "stdout",
     "output_type": "stream",
     "text": [
      "91\n"
     ]
    }
   ],
   "source": [
    "s1 = \"Just a test\"\n",
    "s2 = \"just a test\"\n",
    "\n",
    "print(fuzz.ratio(s1, s2))"
   ]
  },
  {
   "cell_type": "code",
   "execution_count": 8,
   "id": "af858b3e",
   "metadata": {},
   "outputs": [
    {
     "name": "stdout",
     "output_type": "stream",
     "text": [
      "80\n"
     ]
    }
   ],
   "source": [
    "s1 = \"Just a test\"\n",
    "s2 = \"justatest\"\n",
    "\n",
    "print(fuzz.ratio(s1, s2))"
   ]
  },
  {
   "cell_type": "code",
   "execution_count": 9,
   "id": "0a93292e",
   "metadata": {},
   "outputs": [
    {
     "name": "stdout",
     "output_type": "stream",
     "text": [
      "82\n"
     ]
    }
   ],
   "source": [
    "s1 = \"Just a test\"\n",
    "s2 = \"jusf a test\"\n",
    "\n",
    "print(fuzz.ratio(s1, s2))"
   ]
  },
  {
   "cell_type": "code",
   "execution_count": 11,
   "id": "3c0259f8",
   "metadata": {},
   "outputs": [
    {
     "name": "stdout",
     "output_type": "stream",
     "text": [
      "97\n"
     ]
    }
   ],
   "source": [
    "s1 = \"Just a test and this is a long string\"\n",
    "s2 = \"Just a test and this is a long strinf\"\n",
    "\n",
    "print(fuzz.ratio(s1, s2))"
   ]
  },
  {
   "cell_type": "code",
   "execution_count": 12,
   "id": "a9b327b6",
   "metadata": {},
   "outputs": [
    {
     "name": "stdout",
     "output_type": "stream",
     "text": [
      "30\n"
     ]
    }
   ],
   "source": [
    "s1 = \"Just a test and this is a long string\"\n",
    "s2 = \"Something completely different\"\n",
    "\n",
    "print(fuzz.ratio(s1, s2))"
   ]
  },
  {
   "cell_type": "code",
   "execution_count": 33,
   "id": "523e6691",
   "metadata": {},
   "outputs": [
    {
     "name": "stdout",
     "output_type": "stream",
     "text": [
      "52\n"
     ]
    }
   ],
   "source": [
    "s1 = \"My name is Harry Potter\"\n",
    "s2 = \"Harry Potter is my name\"\n",
    "\n",
    "print(fuzz.ratio(s1, s2))"
   ]
  },
  {
   "cell_type": "markdown",
   "id": "7dfeeccd",
   "metadata": {},
   "source": [
    "# Partial ratio using FuzzyWuzzy"
   ]
  },
  {
   "cell_type": "code",
   "execution_count": 27,
   "id": "04e94f66",
   "metadata": {},
   "outputs": [],
   "source": [
    "# Partial ratio checks if a string is present as a substring in another string."
   ]
  },
  {
   "cell_type": "code",
   "execution_count": 32,
   "id": "7f4c9795",
   "metadata": {},
   "outputs": [
    {
     "name": "stdout",
     "output_type": "stream",
     "text": [
      "100\n"
     ]
    }
   ],
   "source": [
    "s1 = \"My name is Harry\"\n",
    "s2 = \"My name is Harry Potter\"\n",
    "\n",
    "print(fuzz.partial_ratio(s1, s2))"
   ]
  },
  {
   "cell_type": "markdown",
   "id": "6509edcf",
   "metadata": {},
   "source": [
    "# Token sort ratio using FuzzyWuzzy"
   ]
  },
  {
   "cell_type": "code",
   "execution_count": 28,
   "id": "23febb0f",
   "metadata": {},
   "outputs": [],
   "source": [
    "# Strings are converted to lower case and stripped off punctuations, then each of the word is sorted alphabetically and compared."
   ]
  },
  {
   "cell_type": "code",
   "execution_count": 31,
   "id": "df1f247a",
   "metadata": {},
   "outputs": [
    {
     "name": "stdout",
     "output_type": "stream",
     "text": [
      "52\n",
      "69\n",
      "100\n"
     ]
    }
   ],
   "source": [
    "s1 = \"My name is Harry Potter\"\n",
    "s2 = \"Harry Potter is my name\"\n",
    "\n",
    "print(fuzz.ratio(s1, s2))\n",
    "print(fuzz.partial_ratio(s1, s2))\n",
    "print(fuzz.token_sort_ratio(s1, s2)) # same words, different order"
   ]
  },
  {
   "cell_type": "code",
   "execution_count": 18,
   "id": "f1a5c8be",
   "metadata": {},
   "outputs": [
    {
     "name": "stdout",
     "output_type": "stream",
     "text": [
      "85\n"
     ]
    }
   ],
   "source": [
    "s1 = \"Hello World is what I want to tell you\"\n",
    "s2 = \"What I want to convey you is Hello World\"\n",
    "\n",
    "print(fuzz.token_sort_ratio(s1, s2)) # same words, different order"
   ]
  },
  {
   "cell_type": "markdown",
   "id": "aff7a34c",
   "metadata": {},
   "source": [
    "# Token set ratio using Fuzzy Wuzzy"
   ]
  },
  {
   "cell_type": "code",
   "execution_count": 29,
   "id": "cba56f60",
   "metadata": {},
   "outputs": [],
   "source": [
    "# Pick up the common words regardless of extra or repetition"
   ]
  },
  {
   "cell_type": "code",
   "execution_count": 30,
   "id": "9b53b8c4",
   "metadata": {},
   "outputs": [
    {
     "name": "stdout",
     "output_type": "stream",
     "text": [
      "47\n",
      "69\n",
      "90\n",
      "100\n"
     ]
    }
   ],
   "source": [
    "s1 = \"My name is Harry Potter\"\n",
    "s2 = \"Harry Potter is my name name\"\n",
    "\n",
    "print(fuzz.ratio(s1, s2))\n",
    "print(fuzz.partial_ratio(s1, s2))\n",
    "print(fuzz.token_sort_ratio(s1, s2))\n",
    "print(fuzz.token_set_ratio(s1, s2))"
   ]
  },
  {
   "cell_type": "markdown",
   "id": "e4e5e369",
   "metadata": {},
   "source": [
    "# Process module using FuzzyWuzzy"
   ]
  },
  {
   "cell_type": "code",
   "execution_count": 21,
   "id": "5a4d3b50",
   "metadata": {},
   "outputs": [],
   "source": [
    "things = [\"Programming Language\", \"Native Language\", \"React Native\", \"Some Stuff\", \"Hello World\", \"Coding and Stuff\"]"
   ]
  },
  {
   "cell_type": "code",
   "execution_count": 22,
   "id": "9a69f26a",
   "metadata": {},
   "outputs": [
    {
     "name": "stdout",
     "output_type": "stream",
     "text": [
      "[('Programming Language', 90), ('Native Language', 90)]\n"
     ]
    }
   ],
   "source": [
    "print(process.extract(\"language\", things, limit=2))"
   ]
  },
  {
   "cell_type": "code",
   "execution_count": 23,
   "id": "9c71f5c7",
   "metadata": {},
   "outputs": [
    {
     "name": "stdout",
     "output_type": "stream",
     "text": [
      "[('Programming Language', 90), ('Native Language', 31)]\n"
     ]
    }
   ],
   "source": [
    "print(process.extract(\"programming\", things, limit=2))"
   ]
  },
  {
   "cell_type": "code",
   "execution_count": 24,
   "id": "52b0b339",
   "metadata": {},
   "outputs": [
    {
     "name": "stdout",
     "output_type": "stream",
     "text": [
      "[('Programming Language', 90), ('Native Language', 31), ('Coding and Stuff', 30), ('React Native', 26), ('Some Stuff', 19)]\n"
     ]
    }
   ],
   "source": [
    "print(process.extract(\"programming\", things))"
   ]
  },
  {
   "cell_type": "code",
   "execution_count": 34,
   "id": "2e717083",
   "metadata": {},
   "outputs": [
    {
     "data": {
      "text/plain": [
       "[('My name is Harry', 95), ('My name Harry', 86), ('My Harry', 86)]"
      ]
     },
     "execution_count": 34,
     "metadata": {},
     "output_type": "execute_result"
    }
   ],
   "source": [
    "query = 'My name is Harry Potter'\n",
    "\n",
    "choices = ['My name is Harry', 'My name Harry', 'My Harry']\n",
    "\n",
    "# Get a list of matches ordered by score, default limit to 5\n",
    "process.extract(query, choices)"
   ]
  },
  {
   "cell_type": "code",
   "execution_count": 35,
   "id": "0727e704",
   "metadata": {},
   "outputs": [
    {
     "data": {
      "text/plain": [
       "('My name is Harry', 95)"
      ]
     },
     "execution_count": 35,
     "metadata": {},
     "output_type": "execute_result"
    }
   ],
   "source": [
    "process.extractOne(query, choices) # extracting the top match"
   ]
  },
  {
   "cell_type": "code",
   "execution_count": null,
   "id": "34f5944e",
   "metadata": {},
   "outputs": [],
   "source": []
  },
  {
   "cell_type": "code",
   "execution_count": null,
   "id": "1450f724",
   "metadata": {},
   "outputs": [],
   "source": []
  },
  {
   "cell_type": "code",
   "execution_count": null,
   "id": "5c30f373",
   "metadata": {},
   "outputs": [],
   "source": []
  },
  {
   "cell_type": "code",
   "execution_count": null,
   "id": "10acd729",
   "metadata": {},
   "outputs": [],
   "source": []
  },
  {
   "cell_type": "code",
   "execution_count": null,
   "id": "b7c1e833",
   "metadata": {},
   "outputs": [],
   "source": []
  },
  {
   "cell_type": "code",
   "execution_count": null,
   "id": "e55875fc",
   "metadata": {},
   "outputs": [],
   "source": []
  },
  {
   "cell_type": "code",
   "execution_count": null,
   "id": "8cf5c747",
   "metadata": {},
   "outputs": [],
   "source": []
  }
 ],
 "metadata": {
  "kernelspec": {
   "display_name": "Python 3 (ipykernel)",
   "language": "python",
   "name": "python3"
  },
  "language_info": {
   "codemirror_mode": {
    "name": "ipython",
    "version": 3
   },
   "file_extension": ".py",
   "mimetype": "text/x-python",
   "name": "python",
   "nbconvert_exporter": "python",
   "pygments_lexer": "ipython3",
   "version": "3.11.4"
  }
 },
 "nbformat": 4,
 "nbformat_minor": 5
}
