{
 "cells": [
  {
   "cell_type": "code",
   "execution_count": 2,
   "id": "2adbd794",
   "metadata": {},
   "outputs": [],
   "source": [
    "integers = [1, 2, 3, 4, 5] # this is a list"
   ]
  },
  {
   "cell_type": "code",
   "execution_count": 3,
   "id": "98ce0d8d",
   "metadata": {},
   "outputs": [
    {
     "name": "stdout",
     "output_type": "stream",
     "text": [
      "1\n",
      "2\n",
      "3\n",
      "4\n",
      "5\n"
     ]
    }
   ],
   "source": [
    "for number in integers:\n",
    "    print(number)"
   ]
  },
  {
   "cell_type": "code",
   "execution_count": 4,
   "id": "95951c3e",
   "metadata": {},
   "outputs": [
    {
     "name": "stdout",
     "output_type": "stream",
     "text": [
      "yep!\n",
      "yep!\n",
      "yep!\n",
      "yep!\n",
      "yep!\n"
     ]
    }
   ],
   "source": [
    "for number in integers:\n",
    "    print('yep!')"
   ]
  },
  {
   "cell_type": "code",
   "execution_count": 5,
   "id": "1b1ba166",
   "metadata": {},
   "outputs": [],
   "source": [
    "integers = [1, 2, 3, 4, 5]"
   ]
  },
  {
   "cell_type": "code",
   "execution_count": 6,
   "id": "a5f1fec0",
   "metadata": {},
   "outputs": [
    {
     "name": "stdout",
     "output_type": "stream",
     "text": [
      "2\n",
      "4\n",
      "6\n",
      "8\n",
      "10\n"
     ]
    }
   ],
   "source": [
    "for jelly in integers:\n",
    "    print(jelly + jelly)"
   ]
  },
  {
   "cell_type": "code",
   "execution_count": 7,
   "id": "c5bbca21",
   "metadata": {},
   "outputs": [],
   "source": [
    "ice_cream_dict = {'name': 'Alex Freberg', 'weekly intake': 5, 'favourite ice cream': ['mint', 'chocolate']}"
   ]
  },
  {
   "cell_type": "code",
   "execution_count": 8,
   "id": "3350ff67",
   "metadata": {},
   "outputs": [
    {
     "name": "stdout",
     "output_type": "stream",
     "text": [
      "Alex Freberg\n",
      "5\n",
      "['mint', 'chocolate']\n"
     ]
    }
   ],
   "source": [
    "for cream in ice_cream_dict.values():\n",
    "    print(cream)"
   ]
  },
  {
   "cell_type": "code",
   "execution_count": 12,
   "id": "545a9a52",
   "metadata": {},
   "outputs": [
    {
     "name": "stdout",
     "output_type": "stream",
     "text": [
      "name -> Alex Freberg\n",
      "weekly intake -> 5\n",
      "favourite ice cream -> ['mint', 'chocolate']\n"
     ]
    }
   ],
   "source": [
    "for key, value in ice_cream_dict.items():\n",
    "    print(key, '->', value)"
   ]
  },
  {
   "cell_type": "markdown",
   "id": "79e717aa",
   "metadata": {},
   "source": [
    "# Nested for loops"
   ]
  },
  {
   "cell_type": "code",
   "execution_count": 13,
   "id": "6a40c362",
   "metadata": {},
   "outputs": [],
   "source": [
    "flavours = ['vanilla', 'chocolate', 'cookie dough']\n",
    "toppings = ['hot fudge', 'oreos', 'marshmallows']"
   ]
  },
  {
   "cell_type": "code",
   "execution_count": 14,
   "id": "b58a619c",
   "metadata": {},
   "outputs": [
    {
     "name": "stdout",
     "output_type": "stream",
     "text": [
      "vanilla topped with hot fudge\n",
      "vanilla topped with oreos\n",
      "vanilla topped with marshmallows\n",
      "chocolate topped with hot fudge\n",
      "chocolate topped with oreos\n",
      "chocolate topped with marshmallows\n",
      "cookie dough topped with hot fudge\n",
      "cookie dough topped with oreos\n",
      "cookie dough topped with marshmallows\n"
     ]
    }
   ],
   "source": [
    "for one in flavours:\n",
    "    for two in toppings:\n",
    "        print(one, 'topped with', two)"
   ]
  },
  {
   "cell_type": "code",
   "execution_count": null,
   "id": "706e1801",
   "metadata": {},
   "outputs": [],
   "source": []
  },
  {
   "cell_type": "code",
   "execution_count": null,
   "id": "b9215ad5",
   "metadata": {},
   "outputs": [],
   "source": []
  },
  {
   "cell_type": "code",
   "execution_count": null,
   "id": "652cb27d",
   "metadata": {},
   "outputs": [],
   "source": []
  },
  {
   "cell_type": "code",
   "execution_count": null,
   "id": "c1224659",
   "metadata": {},
   "outputs": [],
   "source": []
  },
  {
   "cell_type": "code",
   "execution_count": null,
   "id": "697ff5ca",
   "metadata": {},
   "outputs": [],
   "source": []
  },
  {
   "cell_type": "code",
   "execution_count": null,
   "id": "08279f32",
   "metadata": {},
   "outputs": [],
   "source": []
  },
  {
   "cell_type": "code",
   "execution_count": null,
   "id": "6b44d40f",
   "metadata": {},
   "outputs": [],
   "source": []
  },
  {
   "cell_type": "code",
   "execution_count": null,
   "id": "4b5aca79",
   "metadata": {},
   "outputs": [],
   "source": []
  }
 ],
 "metadata": {
  "kernelspec": {
   "display_name": "Python 3 (ipykernel)",
   "language": "python",
   "name": "python3"
  },
  "language_info": {
   "codemirror_mode": {
    "name": "ipython",
    "version": 3
   },
   "file_extension": ".py",
   "mimetype": "text/x-python",
   "name": "python",
   "nbconvert_exporter": "python",
   "pygments_lexer": "ipython3",
   "version": "3.11.4"
  }
 },
 "nbformat": 4,
 "nbformat_minor": 5
}
