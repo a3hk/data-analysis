{
 "cells": [
  {
   "cell_type": "code",
   "execution_count": 1,
   "id": "ebc134bb",
   "metadata": {},
   "outputs": [
    {
     "name": "stdout",
     "output_type": "stream",
     "text": [
      "22\n"
     ]
    }
   ],
   "source": [
    "x = 22\n",
    "\n",
    "print(x)"
   ]
  },
  {
   "cell_type": "code",
   "execution_count": 2,
   "id": "147385bd",
   "metadata": {},
   "outputs": [
    {
     "data": {
      "text/plain": [
       "int"
      ]
     },
     "execution_count": 2,
     "metadata": {},
     "output_type": "execute_result"
    }
   ],
   "source": [
    "type(x)"
   ]
  },
  {
   "cell_type": "code",
   "execution_count": 3,
   "id": "c6dce724",
   "metadata": {},
   "outputs": [
    {
     "name": "stdout",
     "output_type": "stream",
     "text": [
      "Mint chocolate chip\n"
     ]
    }
   ],
   "source": [
    "y = 'Mint chocolate chip'\n",
    "\n",
    "print(y)"
   ]
  },
  {
   "cell_type": "code",
   "execution_count": 4,
   "id": "18f0ef7c",
   "metadata": {},
   "outputs": [
    {
     "data": {
      "text/plain": [
       "str"
      ]
     },
     "execution_count": 4,
     "metadata": {},
     "output_type": "execute_result"
    }
   ],
   "source": [
    "type(y)"
   ]
  },
  {
   "cell_type": "code",
   "execution_count": 8,
   "id": "d8549ecb",
   "metadata": {},
   "outputs": [
    {
     "name": "stdout",
     "output_type": "stream",
     "text": [
      "Chocolate\n"
     ]
    }
   ],
   "source": [
    "y = 'Chocolate'\n",
    "\n",
    "Y = 'Mint chocolate chip' # variables are case sensitive\n",
    "\n",
    "print(y)"
   ]
  },
  {
   "cell_type": "code",
   "execution_count": 9,
   "id": "9c6df319",
   "metadata": {},
   "outputs": [
    {
     "name": "stdout",
     "output_type": "stream",
     "text": [
      "chocolate\n",
      "vanilla\n",
      "rocky road\n"
     ]
    }
   ],
   "source": [
    "x,y,z = 'chocolate', 'vanilla', 'rocky road'\n",
    "\n",
    "'chocolate', 'vanilla', 'rocky road'"
   ]
  },
  {
   "cell_type": "code",
   "execution_count": 10,
   "id": "a33ed2cd",
   "metadata": {},
   "outputs": [
    {
     "name": "stdout",
     "output_type": "stream",
     "text": [
      "root beer float\n",
      "root beer float\n",
      "root beer float\n"
     ]
    }
   ],
   "source": [
    "x = y = z = 'root beer float'\n",
    "\n",
    "print(x)\n",
    "print(y)\n",
    "print(z)"
   ]
  },
  {
   "cell_type": "code",
   "execution_count": 11,
   "id": "97271a36",
   "metadata": {},
   "outputs": [
    {
     "name": "stdout",
     "output_type": "stream",
     "text": [
      "chocolate\n",
      "vanilla\n",
      "rocky road\n"
     ]
    }
   ],
   "source": [
    "ice_cream = ['chocolate', 'vanilla', 'rocky road'] # this is a list\n",
    "\n",
    "x, y, z = ice_cream # all 3 values above will be assigned each to x, y, z\n",
    "\n",
    "print(x)\n",
    "print(y)\n",
    "print(z)"
   ]
  },
  {
   "cell_type": "markdown",
   "id": "316fe663",
   "metadata": {},
   "source": [
    "# Best practices for naming variables"
   ]
  },
  {
   "cell_type": "code",
   "execution_count": null,
   "id": "b3266153",
   "metadata": {},
   "outputs": [],
   "source": [
    "# Camel Case, e.g. testVariableCase\n",
    "\n",
    "# Pascal Case, e.g. TestVariableCase\n",
    "\n",
    "# Snake Case, e.g. test_variable_case"
   ]
  },
  {
   "cell_type": "code",
   "execution_count": 12,
   "id": "2c0dda59",
   "metadata": {},
   "outputs": [
    {
     "name": "stdout",
     "output_type": "stream",
     "text": [
      "Ice cream is my favourite.\n"
     ]
    }
   ],
   "source": [
    "x = 'Ice cream is my favourite' + '.'\n",
    "\n",
    "print(x)"
   ]
  },
  {
   "cell_type": "code",
   "execution_count": 13,
   "id": "8ecd5e8c",
   "metadata": {},
   "outputs": [
    {
     "name": "stdout",
     "output_type": "stream",
     "text": [
      "5\n"
     ]
    }
   ],
   "source": [
    "y = 3 + 2\n",
    "\n",
    "print(y)"
   ]
  },
  {
   "cell_type": "code",
   "execution_count": 15,
   "id": "bf72a061",
   "metadata": {},
   "outputs": [
    {
     "name": "stdout",
     "output_type": "stream",
     "text": [
      "Ice cream is my favourite.\n"
     ]
    }
   ],
   "source": [
    "x = 'Ice cream'\n",
    "y = ' is'\n",
    "z = ' my favourite.'\n",
    "\n",
    "print (x+y+z)"
   ]
  },
  {
   "cell_type": "code",
   "execution_count": 16,
   "id": "b8de54c3",
   "metadata": {},
   "outputs": [
    {
     "name": "stdout",
     "output_type": "stream",
     "text": [
      "6\n"
     ]
    }
   ],
   "source": [
    "x = 1\n",
    "y = 2\n",
    "z = 3\n",
    "\n",
    "print (x+y+z)"
   ]
  },
  {
   "cell_type": "code",
   "execution_count": 18,
   "id": "c326c224",
   "metadata": {},
   "outputs": [
    {
     "name": "stdout",
     "output_type": "stream",
     "text": [
      "Ice cream 2\n"
     ]
    }
   ],
   "source": [
    "x = 'Ice cream'\n",
    "y = 2\n",
    "\n",
    "print (x,y)"
   ]
  },
  {
   "cell_type": "code",
   "execution_count": null,
   "id": "259047c7",
   "metadata": {},
   "outputs": [],
   "source": []
  },
  {
   "cell_type": "code",
   "execution_count": null,
   "id": "a2da91a8",
   "metadata": {},
   "outputs": [],
   "source": []
  },
  {
   "cell_type": "code",
   "execution_count": null,
   "id": "5ef27449",
   "metadata": {},
   "outputs": [],
   "source": []
  },
  {
   "cell_type": "code",
   "execution_count": null,
   "id": "13dad812",
   "metadata": {},
   "outputs": [],
   "source": []
  },
  {
   "cell_type": "code",
   "execution_count": null,
   "id": "5a352151",
   "metadata": {},
   "outputs": [],
   "source": []
  },
  {
   "cell_type": "code",
   "execution_count": null,
   "id": "7e97b6b6",
   "metadata": {},
   "outputs": [],
   "source": []
  },
  {
   "cell_type": "code",
   "execution_count": null,
   "id": "8f908ab0",
   "metadata": {},
   "outputs": [],
   "source": []
  },
  {
   "cell_type": "code",
   "execution_count": null,
   "id": "d43b850f",
   "metadata": {},
   "outputs": [],
   "source": []
  },
  {
   "cell_type": "code",
   "execution_count": null,
   "id": "655e7f43",
   "metadata": {},
   "outputs": [],
   "source": []
  }
 ],
 "metadata": {
  "kernelspec": {
   "display_name": "Python 3 (ipykernel)",
   "language": "python",
   "name": "python3"
  },
  "language_info": {
   "codemirror_mode": {
    "name": "ipython",
    "version": 3
   },
   "file_extension": ".py",
   "mimetype": "text/x-python",
   "name": "python",
   "nbconvert_exporter": "python",
   "pygments_lexer": "ipython3",
   "version": "3.11.4"
  }
 },
 "nbformat": 4,
 "nbformat_minor": 5
}
