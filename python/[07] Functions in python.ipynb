{
 "cells": [
  {
   "cell_type": "markdown",
   "id": "fac12edd",
   "metadata": {},
   "source": [
    "# Functions"
   ]
  },
  {
   "cell_type": "code",
   "execution_count": 1,
   "id": "ab34b6c0",
   "metadata": {},
   "outputs": [],
   "source": [
    "def first_function():\n",
    "    print('We did it!')"
   ]
  },
  {
   "cell_type": "code",
   "execution_count": 2,
   "id": "2906e26c",
   "metadata": {},
   "outputs": [
    {
     "name": "stdout",
     "output_type": "stream",
     "text": [
      "We did it!\n"
     ]
    }
   ],
   "source": [
    "first_function()"
   ]
  },
  {
   "cell_type": "code",
   "execution_count": 4,
   "id": "be792471",
   "metadata": {},
   "outputs": [],
   "source": [
    "def number_squared(number):\n",
    "    print(number**2)"
   ]
  },
  {
   "cell_type": "code",
   "execution_count": 5,
   "id": "db043669",
   "metadata": {},
   "outputs": [
    {
     "name": "stdout",
     "output_type": "stream",
     "text": [
      "4\n"
     ]
    }
   ],
   "source": [
    "number_squared(2)"
   ]
  },
  {
   "cell_type": "code",
   "execution_count": 6,
   "id": "c9ec1641",
   "metadata": {},
   "outputs": [],
   "source": [
    "def number_squared_cust(number, power):\n",
    "    print(number**power)"
   ]
  },
  {
   "cell_type": "code",
   "execution_count": 7,
   "id": "a024d652",
   "metadata": {},
   "outputs": [
    {
     "name": "stdout",
     "output_type": "stream",
     "text": [
      "125\n"
     ]
    }
   ],
   "source": [
    "number_squared_cust(5, 3)"
   ]
  },
  {
   "cell_type": "markdown",
   "id": "71c87090",
   "metadata": {},
   "source": [
    "# Arbitrary arguments in functions"
   ]
  },
  {
   "cell_type": "code",
   "execution_count": 8,
   "id": "68d61530",
   "metadata": {},
   "outputs": [],
   "source": [
    "def number_args(*number):\n",
    "    print(number[0]*number[1])"
   ]
  },
  {
   "cell_type": "code",
   "execution_count": 9,
   "id": "d9742f1d",
   "metadata": {},
   "outputs": [
    {
     "name": "stdout",
     "output_type": "stream",
     "text": [
      "30\n"
     ]
    }
   ],
   "source": [
    "number_args(5,6,1,2,8) # we don't know how many numbers we will pass to"
   ]
  },
  {
   "cell_type": "code",
   "execution_count": 10,
   "id": "aa3452e5",
   "metadata": {},
   "outputs": [],
   "source": [
    "args_tuple = (5,6,1,2,8)\n",
    "\n",
    "def number_args(*number):\n",
    "    print(number[0]*number[1]) # print index 0 * index 1 from the tuple"
   ]
  },
  {
   "cell_type": "code",
   "execution_count": 11,
   "id": "a6896f93",
   "metadata": {},
   "outputs": [
    {
     "name": "stdout",
     "output_type": "stream",
     "text": [
      "30\n"
     ]
    }
   ],
   "source": [
    "number_args(*args_tuple)"
   ]
  },
  {
   "cell_type": "code",
   "execution_count": 13,
   "id": "072a02d5",
   "metadata": {},
   "outputs": [
    {
     "name": "stdout",
     "output_type": "stream",
     "text": [
      "243\n"
     ]
    }
   ],
   "source": [
    "number_squared_cust(power = 5, number = 3)"
   ]
  },
  {
   "cell_type": "markdown",
   "id": "50e37e56",
   "metadata": {},
   "source": [
    "# Arbitrary keyword argument"
   ]
  },
  {
   "cell_type": "code",
   "execution_count": 23,
   "id": "230103c4",
   "metadata": {},
   "outputs": [],
   "source": [
    "def words_kwarg(**name):\n",
    "    print('My first name is: ' + name['firstName'] + ' and my second name is: ' + name['secondName'])"
   ]
  },
  {
   "cell_type": "code",
   "execution_count": 24,
   "id": "cddefc97",
   "metadata": {},
   "outputs": [
    {
     "name": "stdout",
     "output_type": "stream",
     "text": [
      "My first name is: Kiki and my second name is: Dumski\n"
     ]
    }
   ],
   "source": [
    "words_kwarg(firstName = 'Kiki', secondName = 'Dumski')"
   ]
  },
  {
   "cell_type": "code",
   "execution_count": null,
   "id": "dbacce9e",
   "metadata": {},
   "outputs": [],
   "source": []
  },
  {
   "cell_type": "code",
   "execution_count": null,
   "id": "f6cc05da",
   "metadata": {},
   "outputs": [],
   "source": []
  },
  {
   "cell_type": "code",
   "execution_count": null,
   "id": "f58a5622",
   "metadata": {},
   "outputs": [],
   "source": []
  },
  {
   "cell_type": "code",
   "execution_count": null,
   "id": "6e23e557",
   "metadata": {},
   "outputs": [],
   "source": []
  }
 ],
 "metadata": {
  "kernelspec": {
   "display_name": "Python 3 (ipykernel)",
   "language": "python",
   "name": "python3"
  },
  "language_info": {
   "codemirror_mode": {
    "name": "ipython",
    "version": 3
   },
   "file_extension": ".py",
   "mimetype": "text/x-python",
   "name": "python",
   "nbconvert_exporter": "python",
   "pygments_lexer": "ipython3",
   "version": "3.11.4"
  }
 },
 "nbformat": 4,
 "nbformat_minor": 5
}
