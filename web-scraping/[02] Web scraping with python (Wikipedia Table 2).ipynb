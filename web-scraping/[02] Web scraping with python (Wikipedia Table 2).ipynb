{
 "cells": [
  {
   "cell_type": "markdown",
   "id": "09b0bc02",
   "metadata": {},
   "source": [
    "# Scraping from a real website + Pandas (Part 2)"
   ]
  },
  {
   "cell_type": "code",
   "execution_count": 7,
   "id": "02e01af3",
   "metadata": {},
   "outputs": [],
   "source": [
    "# Import BeautifulSoup library to parse HTML\n",
    "\n",
    "from bs4 import BeautifulSoup\n",
    "import requests"
   ]
  },
  {
   "cell_type": "code",
   "execution_count": 8,
   "id": "14d5d8cc",
   "metadata": {},
   "outputs": [],
   "source": [
    "# Enter the URL\n",
    "\n",
    "url = 'https://en.wikipedia.org/wiki/List_of_largest_companies_in_the_United_States_by_revenue'\n",
    "\n",
    "page = requests.get(url)\n",
    "\n",
    "soup = BeautifulSoup(page.text, 'html')"
   ]
  },
  {
   "cell_type": "code",
   "execution_count": 9,
   "id": "cce416af",
   "metadata": {},
   "outputs": [
    {
     "name": "stdout",
     "output_type": "stream",
     "text": [
      "<table class=\"wikitable sortable\">\n",
      "<caption>\n",
      "</caption>\n",
      "<tbody><tr>\n",
      "<th>Rank\n",
      "</th>\n",
      "<th>Name\n",
      "</th>\n",
      "<th>Industry\n",
      "</th>\n",
      "<th>Profits<br/>(USD millions)\n",
      "</th></tr>\n",
      "<tr>\n",
      "<td>1\n",
      "</td>\n",
      "<td><a href=\"/wiki/Apple_Inc.\" title=\"Apple Inc.\">Apple</a>\n",
      "</td>\n",
      "<td>Electronics\n",
      "</td>\n",
      "<td style=\"text-align:center;\">99,803\n",
      "</td></tr>\n",
      "<tr>\n",
      "<td>2\n",
      "</td>\n",
      "<td><a href=\"/wiki/Microsoft\" title=\"Microsoft\">Microsoft</a>\n",
      "</td>\n",
      "<td>Technology\n",
      "</td>\n",
      "<td style=\"text-align:center;\">72,738\n",
      "</td></tr>\n",
      "<tr>\n",
      "<td>3\n",
      "</td>\n",
      "<td><a href=\"/wiki/Alphabet_Inc.\" title=\"Alphabet Inc.\">Alphabet</a>\n",
      "</td>\n",
      "<td>Technology\n",
      "</td>\n",
      "<td style=\"text-align:center;\">59,972\n",
      "</td></tr>\n",
      "<tr>\n",
      "<td>4\n",
      "</td>\n",
      "<td><a href=\"/wiki/United_States_Postal_Service\" title=\"United States Postal Service\">United States Postal Service</a>\n",
      "</td>\n",
      "<td>Logistics\n",
      "</td>\n",
      "<td style=\"text-align:center;\">56,046\n",
      "</td></tr>\n",
      "<tr>\n",
      "<td>5\n",
      "</td>\n",
      "<td><a href=\"/wiki/ExxonMobil\" title=\"ExxonMobil\">ExxonMobil</a>\n",
      "</td>\n",
      "<td>Petroleum industry\n",
      "</td>\n",
      "<td style=\"text-align:center;\">55,740\n",
      "</td></tr>\n",
      "<tr>\n",
      "<td>6\n",
      "</td>\n",
      "<td><a href=\"/wiki/JPMorgan_Chase\" title=\"JPMorgan Chase\">JPMorgan Chase</a>\n",
      "</td>\n",
      "<td>Financials\n",
      "</td>\n",
      "<td style=\"text-align:center;\">37,676\n",
      "</td></tr>\n",
      "<tr>\n",
      "<td>7\n",
      "</td>\n",
      "<td><a href=\"/wiki/Chevron_Corporation\" title=\"Chevron Corporation\">Chevron Corporation</a>\n",
      "</td>\n",
      "<td>Petroleum industry\n",
      "</td>\n",
      "<td style=\"text-align:center;\">35,465\n",
      "</td></tr>\n",
      "<tr>\n",
      "<td>8\n",
      "</td>\n",
      "<td><a href=\"/wiki/Pfizer\" title=\"Pfizer\">Pfizer</a>\n",
      "</td>\n",
      "<td>Pharmaceutical industry\n",
      "</td>\n",
      "<td style=\"text-align:center;\">31,372\n",
      "</td></tr>\n",
      "<tr>\n",
      "<td>9\n",
      "</td>\n",
      "<td><a href=\"/wiki/Bank_of_America\" title=\"Bank of America\">Bank of America</a>\n",
      "</td>\n",
      "<td>Financials\n",
      "</td>\n",
      "<td style=\"text-align:center;\">27,528\n",
      "</td></tr>\n",
      "<tr>\n",
      "<td>10\n",
      "</td>\n",
      "<td><a href=\"/wiki/Meta_Platforms\" title=\"Meta Platforms\">Meta Platforms</a>\n",
      "</td>\n",
      "<td>Technology\n",
      "</td>\n",
      "<td style=\"text-align:center;\">23,200\n",
      "</td></tr></tbody></table>\n"
     ]
    }
   ],
   "source": [
    "# Extract the table\n",
    "\n",
    "table = soup.find_all('table')[3]\n",
    "print(table)"
   ]
  },
  {
   "cell_type": "code",
   "execution_count": 10,
   "id": "7e58a2f7",
   "metadata": {},
   "outputs": [],
   "source": [
    "# Extract all headers from the extracted table\n",
    "\n",
    "world_titles = table.find_all('th')"
   ]
  },
  {
   "cell_type": "code",
   "execution_count": 11,
   "id": "6eba5705",
   "metadata": {},
   "outputs": [
    {
     "data": {
      "text/plain": [
       "[<th>Rank\n",
       " </th>,\n",
       " <th>Name\n",
       " </th>,\n",
       " <th>Industry\n",
       " </th>,\n",
       " <th>Profits<br/>(USD millions)\n",
       " </th>]"
      ]
     },
     "execution_count": 11,
     "metadata": {},
     "output_type": "execute_result"
    }
   ],
   "source": [
    "world_titles"
   ]
  },
  {
   "cell_type": "code",
   "execution_count": 12,
   "id": "0a348b96",
   "metadata": {},
   "outputs": [
    {
     "name": "stdout",
     "output_type": "stream",
     "text": [
      "['Rank', 'Name', 'Industry', 'Profits(USD millions)']\n"
     ]
    }
   ],
   "source": [
    "# Extract the titles from the extracted headers of the extracted table\n",
    "\n",
    "world_table_titles = [title.text.strip() for title in world_titles ]\n",
    "\n",
    "print(world_table_titles)"
   ]
  },
  {
   "cell_type": "code",
   "execution_count": 14,
   "id": "c66f5cc9",
   "metadata": {},
   "outputs": [],
   "source": [
    "# Import Pandas library to create dataframe\n",
    "\n",
    "import pandas as pd"
   ]
  },
  {
   "cell_type": "code",
   "execution_count": 15,
   "id": "95746363",
   "metadata": {},
   "outputs": [
    {
     "data": {
      "text/html": [
       "<div>\n",
       "<style scoped>\n",
       "    .dataframe tbody tr th:only-of-type {\n",
       "        vertical-align: middle;\n",
       "    }\n",
       "\n",
       "    .dataframe tbody tr th {\n",
       "        vertical-align: top;\n",
       "    }\n",
       "\n",
       "    .dataframe thead th {\n",
       "        text-align: right;\n",
       "    }\n",
       "</style>\n",
       "<table border=\"1\" class=\"dataframe\">\n",
       "  <thead>\n",
       "    <tr style=\"text-align: right;\">\n",
       "      <th></th>\n",
       "      <th>Rank</th>\n",
       "      <th>Name</th>\n",
       "      <th>Industry</th>\n",
       "      <th>Profits(USD millions)</th>\n",
       "    </tr>\n",
       "  </thead>\n",
       "  <tbody>\n",
       "  </tbody>\n",
       "</table>\n",
       "</div>"
      ],
      "text/plain": [
       "Empty DataFrame\n",
       "Columns: [Rank, Name, Industry, Profits(USD millions)]\n",
       "Index: []"
      ]
     },
     "execution_count": 15,
     "metadata": {},
     "output_type": "execute_result"
    }
   ],
   "source": [
    "df = pd.DataFrame(columns = world_table_titles)\n",
    "\n",
    "df"
   ]
  },
  {
   "cell_type": "code",
   "execution_count": 17,
   "id": "1fa4ff0a",
   "metadata": {},
   "outputs": [],
   "source": [
    "# Extract each row from the extracted table\n",
    "\n",
    "column_data = table.find_all('tr')"
   ]
  },
  {
   "cell_type": "code",
   "execution_count": 18,
   "id": "b56cdfdb",
   "metadata": {},
   "outputs": [],
   "source": [
    "for row in column_data[1:]: # Going through each extracted row, starting from row with index 1 because index 0 is empty\n",
    "    row_data = row.find_all('td') # Extract the cells from each row\n",
    "    individual_row_data = [data.text.strip() for data in row_data] # Extract only the data from each cell\n",
    "\n",
    "    # Every data extracted from each cell is then put into the new row\n",
    "    length = len(df) # Calculate the length of the dataframe/table, initially the length is 0 because there is no data yet\n",
    "    df.loc[length] = individual_row_data # Insert data in index 0 with the extracted data from the cells\n",
    "    \n",
    "    # And then the dataframe/table will have length = 1, then insert new data in index[length], i.e. index[1] and so on."
   ]
  },
  {
   "cell_type": "code",
   "execution_count": 19,
   "id": "c2228969",
   "metadata": {},
   "outputs": [
    {
     "data": {
      "text/html": [
       "<div>\n",
       "<style scoped>\n",
       "    .dataframe tbody tr th:only-of-type {\n",
       "        vertical-align: middle;\n",
       "    }\n",
       "\n",
       "    .dataframe tbody tr th {\n",
       "        vertical-align: top;\n",
       "    }\n",
       "\n",
       "    .dataframe thead th {\n",
       "        text-align: right;\n",
       "    }\n",
       "</style>\n",
       "<table border=\"1\" class=\"dataframe\">\n",
       "  <thead>\n",
       "    <tr style=\"text-align: right;\">\n",
       "      <th></th>\n",
       "      <th>Rank</th>\n",
       "      <th>Name</th>\n",
       "      <th>Industry</th>\n",
       "      <th>Profits(USD millions)</th>\n",
       "    </tr>\n",
       "  </thead>\n",
       "  <tbody>\n",
       "    <tr>\n",
       "      <th>0</th>\n",
       "      <td>1</td>\n",
       "      <td>Apple</td>\n",
       "      <td>Electronics</td>\n",
       "      <td>99,803</td>\n",
       "    </tr>\n",
       "    <tr>\n",
       "      <th>1</th>\n",
       "      <td>2</td>\n",
       "      <td>Microsoft</td>\n",
       "      <td>Technology</td>\n",
       "      <td>72,738</td>\n",
       "    </tr>\n",
       "    <tr>\n",
       "      <th>2</th>\n",
       "      <td>3</td>\n",
       "      <td>Alphabet</td>\n",
       "      <td>Technology</td>\n",
       "      <td>59,972</td>\n",
       "    </tr>\n",
       "    <tr>\n",
       "      <th>3</th>\n",
       "      <td>4</td>\n",
       "      <td>United States Postal Service</td>\n",
       "      <td>Logistics</td>\n",
       "      <td>56,046</td>\n",
       "    </tr>\n",
       "    <tr>\n",
       "      <th>4</th>\n",
       "      <td>5</td>\n",
       "      <td>ExxonMobil</td>\n",
       "      <td>Petroleum industry</td>\n",
       "      <td>55,740</td>\n",
       "    </tr>\n",
       "    <tr>\n",
       "      <th>5</th>\n",
       "      <td>6</td>\n",
       "      <td>JPMorgan Chase</td>\n",
       "      <td>Financials</td>\n",
       "      <td>37,676</td>\n",
       "    </tr>\n",
       "    <tr>\n",
       "      <th>6</th>\n",
       "      <td>7</td>\n",
       "      <td>Chevron Corporation</td>\n",
       "      <td>Petroleum industry</td>\n",
       "      <td>35,465</td>\n",
       "    </tr>\n",
       "    <tr>\n",
       "      <th>7</th>\n",
       "      <td>8</td>\n",
       "      <td>Pfizer</td>\n",
       "      <td>Pharmaceutical industry</td>\n",
       "      <td>31,372</td>\n",
       "    </tr>\n",
       "    <tr>\n",
       "      <th>8</th>\n",
       "      <td>9</td>\n",
       "      <td>Bank of America</td>\n",
       "      <td>Financials</td>\n",
       "      <td>27,528</td>\n",
       "    </tr>\n",
       "    <tr>\n",
       "      <th>9</th>\n",
       "      <td>10</td>\n",
       "      <td>Meta Platforms</td>\n",
       "      <td>Technology</td>\n",
       "      <td>23,200</td>\n",
       "    </tr>\n",
       "  </tbody>\n",
       "</table>\n",
       "</div>"
      ],
      "text/plain": [
       "  Rank                          Name                 Industry  \\\n",
       "0    1                         Apple              Electronics   \n",
       "1    2                     Microsoft               Technology   \n",
       "2    3                      Alphabet               Technology   \n",
       "3    4  United States Postal Service                Logistics   \n",
       "4    5                    ExxonMobil       Petroleum industry   \n",
       "5    6                JPMorgan Chase               Financials   \n",
       "6    7           Chevron Corporation       Petroleum industry   \n",
       "7    8                        Pfizer  Pharmaceutical industry   \n",
       "8    9               Bank of America               Financials   \n",
       "9   10                Meta Platforms               Technology   \n",
       "\n",
       "  Profits(USD millions)  \n",
       "0                99,803  \n",
       "1                72,738  \n",
       "2                59,972  \n",
       "3                56,046  \n",
       "4                55,740  \n",
       "5                37,676  \n",
       "6                35,465  \n",
       "7                31,372  \n",
       "8                27,528  \n",
       "9                23,200  "
      ]
     },
     "execution_count": 19,
     "metadata": {},
     "output_type": "execute_result"
    }
   ],
   "source": [
    "df"
   ]
  },
  {
   "cell_type": "code",
   "execution_count": 20,
   "id": "2cd4b0a1",
   "metadata": {},
   "outputs": [],
   "source": [
    "df.to_csv(r'C:\\Users\\f.pranata\\Documents\\Companies_by_Profit.csv', index = False)"
   ]
  },
  {
   "cell_type": "code",
   "execution_count": null,
   "id": "31ce40c1",
   "metadata": {},
   "outputs": [],
   "source": []
  }
 ],
 "metadata": {
  "kernelspec": {
   "display_name": "Python 3 (ipykernel)",
   "language": "python",
   "name": "python3"
  },
  "language_info": {
   "codemirror_mode": {
    "name": "ipython",
    "version": 3
   },
   "file_extension": ".py",
   "mimetype": "text/x-python",
   "name": "python",
   "nbconvert_exporter": "python",
   "pygments_lexer": "ipython3",
   "version": "3.11.4"
  }
 },
 "nbformat": 4,
 "nbformat_minor": 5
}
